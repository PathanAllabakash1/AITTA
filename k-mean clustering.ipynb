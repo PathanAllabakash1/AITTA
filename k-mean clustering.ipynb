{
  "nbformat": 4,
  "nbformat_minor": 0,
  "metadata": {
    "colab": {
      "name": "Untitled5.ipynb",
      "provenance": [],
      "authorship_tag": "ABX9TyMZ2m1POknss+Uo211tS628",
      "include_colab_link": true
    },
    "kernelspec": {
      "name": "python3",
      "display_name": "Python 3"
    },
    "language_info": {
      "name": "python"
    }
  },
  "cells": [
    {
      "cell_type": "markdown",
      "metadata": {
        "id": "view-in-github",
        "colab_type": "text"
      },
      "source": [
        "<a href=\"https://colab.research.google.com/github/PathanAllabakash1/AITTA/blob/main/k-mean%20clustering.ipynb\" target=\"_parent\"><img src=\"https://colab.research.google.com/assets/colab-badge.svg\" alt=\"Open In Colab\"/></a>"
      ]
    },
    {
      "cell_type": "code",
      "metadata": {
        "id": "Ff94DxSwgSEn"
      },
      "source": [
        "import matplotlib.pyplot as plt\n",
        "import pandas as pd\n",
        "from sklearn.cluster import KMeans"
      ],
      "execution_count": 2,
      "outputs": []
    },
    {
      "cell_type": "code",
      "metadata": {
        "id": "qYnQozaqgmyj"
      },
      "source": [
        "df=pd.DataFrame({'x':[1,1.5,3,5,3.5,4.5,3.5],\n",
        "                 'y':[1,2,4,7,5,5,4.5]})"
      ],
      "execution_count": 7,
      "outputs": []
    },
    {
      "cell_type": "code",
      "metadata": {
        "colab": {
          "base_uri": "https://localhost:8080/"
        },
        "id": "KzRn0Qo6hgpF",
        "outputId": "938d54cb-eca6-42ff-94b9-4714aead9ba2"
      },
      "source": [
        "kmean=KMeans(n_clusters=2)\n",
        "kmean.fit(df)"
      ],
      "execution_count": 15,
      "outputs": [
        {
          "output_type": "execute_result",
          "data": {
            "text/plain": [
              "KMeans(algorithm='auto', copy_x=True, init='k-means++', max_iter=300,\n",
              "       n_clusters=2, n_init=10, n_jobs=None, precompute_distances='auto',\n",
              "       random_state=None, tol=0.0001, verbose=0)"
            ]
          },
          "metadata": {},
          "execution_count": 15
        }
      ]
    },
    {
      "cell_type": "code",
      "metadata": {
        "id": "wlu90eSsh1b7"
      },
      "source": [
        "label=kmean.predict(df)\n",
        "centroid=kmean.cluster_centers_"
      ],
      "execution_count": 16,
      "outputs": []
    },
    {
      "cell_type": "code",
      "metadata": {
        "colab": {
          "base_uri": "https://localhost:8080/",
          "height": 296
        },
        "id": "s_7Om0n0iRrH",
        "outputId": "fc2714b6-cee7-412d-fb8e-6fea343d3b25"
      },
      "source": [
        "plt.xlabel('variable_1')\n",
        "plt.ylabel('variable_2')\n",
        "plt.title('k-mean')\n",
        "plt.scatter(df['x'],df['y'],50,label)\n",
        "for i in centroid:\n",
        "  plt.scatter(i[0],i[1],100,marker=\"*\")"
      ],
      "execution_count": 19,
      "outputs": [
        {
          "output_type": "display_data",
          "data": {
            "image/png": "[encoded data removed]",
            "text/plain": [
              "<Figure size 432x288 with 1 Axes>"
            ]
          },
          "metadata": {
            "needs_background": "light"
          }
        }
      ]
    },
    {
      "cell_type": "code",
      "metadata": {
        "colab": {
          "base_uri": "https://localhost:8080/",
          "height": 265
        },
        "id": "7DiXdJK_inub",
        "outputId": "c68472cd-acec-4a46-d910-06374cf8e679"
      },
      "source": [
        "for i in centroid:\n",
        "  plt.scatter(i[0],i[1],100,marker=\"*\")"
      ],
      "execution_count": 18,
      "outputs": [
        {
          "output_type": "display_data",
          "data": {
            "image/png": "[encoded data removed]",
            "text/plain": [
              "<Figure size 432x288 with 1 Axes>"
            ]
          },
          "metadata": {
            "needs_background": "light"
          }
        }
      ]
    }
  ]
}